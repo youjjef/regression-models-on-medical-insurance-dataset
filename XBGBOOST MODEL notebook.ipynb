{
 "cells": [
  {
   "cell_type": "code",
   "execution_count": 1,
   "id": "416bbf97",
   "metadata": {},
   "outputs": [
    {
     "name": "stdout",
     "output_type": "stream",
     "text": [
      "[01:44:09] WARNING: C:/Users/Administrator/workspace/xgboost-win64_release_1.5.1/src/objective/regression_obj.cu:188: reg:linear is now deprecated in favor of reg:squarederror.\n",
      "RMSE :  4350.131787\n",
      "error ==>  0.8675370695568054\n"
     ]
    }
   ],
   "source": [
    "import numpy as np\n",
    "import pandas as pd\n",
    "import xgboost as xg\n",
    "from sklearn import metrics\n",
    "\n",
    "from sklearn.model_selection import train_test_split\n",
    "from sklearn.metrics import mean_squared_error as MSE\n",
    "\n",
    "# Load the data\n",
    "dataset = pd.read_csv(\"c:\\\\insurance.csv\")\n",
    "\n",
    "\n",
    "#change the sex column\n",
    "dataset.replace({'sex': {'male': 0, 'female': 1}}, inplace=True)\n",
    "\n",
    "#change the smoker column\n",
    "dataset.replace({'smoker': {'no': 0, 'yes': 1}}, inplace=True)\n",
    "\n",
    "#change the region column\n",
    "dataset.replace({'region': {'northeast': 0, 'northwest': 1, 'southeast': 2, 'southwest': 3}}, inplace=True)\n",
    "\n",
    "#split hte features and target\n",
    "X = dataset.drop(columns='charges', axis=1)\n",
    "Y = dataset['charges']\n",
    "\n",
    "# Splitting\n",
    "train_X, test_X, train_y, test_y = train_test_split(X, Y, test_size=0.3, random_state=123)\n",
    "\n",
    "# Instantiation\n",
    "xgb_r = xg.XGBRegressor(objective='reg:linear',\tn_estimators=10, seed=123)\n",
    "\n",
    "# Fitting the model\n",
    "xgb_r.fit(train_X, train_y)\n",
    "\n",
    "# Predict the model\n",
    "pred = xgb_r.predict(test_X)\n",
    "\n",
    "# RMSE Computation\n",
    "rmse = np.sqrt(MSE(test_y, pred))\n",
    "print(\"RMSE : % f\" %(rmse))\n",
    "\n",
    "#pre test data accurcy\n",
    "test_acc = metrics.r2_score(test_y,pred)\n",
    "print(\"error ==> \",test_acc)\n",
    "\n"
   ]
  },
  {
   "cell_type": "code",
   "execution_count": null,
   "id": "9e7e6c6d",
   "metadata": {},
   "outputs": [],
   "source": []
  }
 ],
 "metadata": {
  "kernelspec": {
   "display_name": "Python 3",
   "language": "python",
   "name": "python3"
  },
  "language_info": {
   "codemirror_mode": {
    "name": "ipython",
    "version": 3
   },
   "file_extension": ".py",
   "mimetype": "text/x-python",
   "name": "python",
   "nbconvert_exporter": "python",
   "pygments_lexer": "ipython3",
   "version": "3.8.8"
  }
 },
 "nbformat": 4,
 "nbformat_minor": 5
}
