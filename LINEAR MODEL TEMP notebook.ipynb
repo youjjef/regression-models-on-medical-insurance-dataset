{
 "cells": [
  {
   "cell_type": "code",
   "execution_count": 1,
   "id": "52b53f4f",
   "metadata": {},
   "outputs": [],
   "source": [
    "#block 1 start\n",
    "#import the lib that we need\n",
    "import numpy as NPY\n",
    "import pandas as pan\n",
    "import matplotlib.pyplot as mplt\n",
    "import seaborn as sbo\n",
    "from sklearn.model_selection import train_test_split\n",
    "from sklearn.linear_model import LinearRegression\n",
    "from sklearn import metrics\n",
    "#block 1 end"
   ]
  },
  {
   "cell_type": "code",
   "execution_count": 2,
   "id": "d788b08d",
   "metadata": {},
   "outputs": [],
   "source": [
    "#block 2 start\n",
    "#import data set and save it in pandas dataframe\n",
    "OurDataSet = pan.read_csv('c:\\insurance.csv')\n",
    "#block 2 end"
   ]
  },
  {
   "cell_type": "code",
   "execution_count": 3,
   "id": "e916c9bc",
   "metadata": {},
   "outputs": [],
   "source": [
    "#now we need to change the categorize col to numirec values\n",
    "#change the sex column\n",
    "OurDataSet.replace({'sex':{'male':0 , 'female':1}},inplace=True)\n",
    "\n",
    "#change the smoker column\n",
    "OurDataSet.replace({'smoker':{'no':0 , 'yes':1}},inplace=True)\n",
    "\n",
    "#change the region column\n",
    "OurDataSet.replace({'region':{'northeast':0 , 'northwest':1,'southeast':2,'southwest':3}},inplace=True)\n"
   ]
  },
  {
   "cell_type": "code",
   "execution_count": 4,
   "id": "69fc95f6",
   "metadata": {},
   "outputs": [],
   "source": [
    "#split hte features and target\n",
    "X=OurDataSet.drop(columns='charges',axis=1)\n",
    "Y=OurDataSet['charges']\n"
   ]
  },
  {
   "cell_type": "code",
   "execution_count": 5,
   "id": "14be338e",
   "metadata": {},
   "outputs": [],
   "source": [
    "#use built in split train test data\n",
    "X_train , X_test , Y_train , Y_test = train_test_split(X,Y,test_size=0.252 , random_state=90,shuffle=True)"
   ]
  },
  {
   "cell_type": "code",
   "execution_count": 6,
   "id": "af48d3c1",
   "metadata": {},
   "outputs": [],
   "source": [
    "#loading the built in Linear reg model\n",
    "slreg = LinearRegression()\n"
   ]
  },
  {
   "cell_type": "code",
   "execution_count": 7,
   "id": "0b0f5778",
   "metadata": {},
   "outputs": [
    {
     "data": {
      "text/plain": [
       "LinearRegression()"
      ]
     },
     "execution_count": 7,
     "metadata": {},
     "output_type": "execute_result"
    }
   ],
   "source": [
    "slreg.fit(X_train,Y_train)"
   ]
  },
  {
   "cell_type": "code",
   "execution_count": 8,
   "id": "26050602",
   "metadata": {},
   "outputs": [],
   "source": [
    "#train data predictionx\n",
    "train_data_pre = slreg.predict(X_train)"
   ]
  },
  {
   "cell_type": "code",
   "execution_count": 9,
   "id": "98a31321",
   "metadata": {},
   "outputs": [
    {
     "name": "stdout",
     "output_type": "stream",
     "text": [
      "train error ==>  0.7450327980824488\n"
     ]
    }
   ],
   "source": [
    "#per data error\n",
    "train_acc = metrics.r2_score(Y_train,train_data_pre)\n",
    "print('train error ==> ', train_acc)"
   ]
  },
  {
   "cell_type": "code",
   "execution_count": 10,
   "id": "891265ab",
   "metadata": {},
   "outputs": [],
   "source": [
    "#test data pre\n",
    "test_data_pre = slreg.predict(X_test)\n"
   ]
  },
  {
   "cell_type": "code",
   "execution_count": 11,
   "id": "e8fd9306",
   "metadata": {},
   "outputs": [
    {
     "name": "stdout",
     "output_type": "stream",
     "text": [
      "test error ==>  0.766740757313874\n"
     ]
    }
   ],
   "source": [
    "#pre test data error\n",
    "test_acc = metrics.r2_score(Y_test,test_data_pre)\n",
    "print('test error ==> ',test_acc)"
   ]
  },
  {
   "cell_type": "code",
   "execution_count": 12,
   "id": "14a4a96b",
   "metadata": {},
   "outputs": [
    {
     "name": "stdout",
     "output_type": "stream",
     "text": [
      "[78588.07712138]\n"
     ]
    }
   ],
   "source": [
    "#user input data \n",
    "#output pre charges\n",
    "\n",
    "in_data = (30,0,33.89,0,3,1)\n",
    "\n",
    "#change the tuble to numpy\n",
    "in_data_num = NPY.asarray(in_data)\n",
    "\n",
    "#reshape the arr\n",
    "in_data_n = in_data_num.reshape(1,-1)\n",
    "\n",
    "out_pre = slreg.predict(in_data_n)\n",
    "print(out_pre) "
   ]
  },
  {
   "cell_type": "code",
   "execution_count": null,
   "id": "92736778",
   "metadata": {},
   "outputs": [],
   "source": []
  }
 ],
 "metadata": {
  "kernelspec": {
   "display_name": "Python 3",
   "language": "python",
   "name": "python3"
  },
  "language_info": {
   "codemirror_mode": {
    "name": "ipython",
    "version": 3
   },
   "file_extension": ".py",
   "mimetype": "text/x-python",
   "name": "python",
   "nbconvert_exporter": "python",
   "pygments_lexer": "ipython3",
   "version": "3.8.8"
  }
 },
 "nbformat": 4,
 "nbformat_minor": 5
}
